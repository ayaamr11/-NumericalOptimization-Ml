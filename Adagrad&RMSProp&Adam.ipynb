{
  "cells": [
    {
      "cell_type": "markdown",
      "metadata": {},
      "source": [
        "### THis is an implementation of modefied Gradient Descent methods using Accelerated Gradient Descent with Adaptive learning rate."
      ]
    },
    {
      "cell_type": "markdown",
      "metadata": {
        "id": "C7hYqWj4sjTy"
      },
      "source": [
        "## Imports"
      ]
    },
    {
      "cell_type": "code",
      "execution_count": 12,
      "metadata": {
        "id": "2XzWGukZsjTy"
      },
      "outputs": [],
      "source": [
        "import numpy as np \n",
        "import matplotlib.pyplot as plt\n",
        "import math\n",
        "from sklearn.metrics import r2_score"
      ]
    },
    {
      "cell_type": "markdown",
      "metadata": {
        "id": "9l5DjdBL8qN0"
      },
      "source": [
        "# Prepare Data"
      ]
    },
    {
      "cell_type": "markdown",
      "metadata": {
        "id": "QFtLQsYWsjTy"
      },
      "source": [
        "To have a dataset or set of data points,generate a pair of arrays <b>X</b> and <b>y</b> with the values in <b>X</b> equally distributed between <b>0</b> and <b>20</b> and the values in <b>y</b> such that: \n",
        "<b>yi = a*xi + b (and a = -1, b = 2)</b>\n"
      ]
    },
    {
      "cell_type": "code",
      "execution_count": 4,
      "metadata": {
        "id": "cS5UpCmlsjTz"
      },
      "outputs": [],
      "source": [
        "x= np.linspace(0,20)\n",
        "a=-1\n",
        "b=2\n",
        "y= a*x + b"
      ]
    },
    {
      "cell_type": "code",
      "execution_count": 5,
      "metadata": {
        "colab": {
          "base_uri": "https://localhost:8080/"
        },
        "id": "VxoPpmbFsjTz",
        "outputId": "8df9534d-867f-40b9-c77c-e594fd7a6d39"
      },
      "outputs": [
        {
          "name": "stdout",
          "output_type": "stream",
          "text": [
            "[ 0.          0.40816327  0.81632653  1.2244898   1.63265306  2.04081633\n",
            "  2.44897959  2.85714286  3.26530612  3.67346939  4.08163265  4.48979592\n",
            "  4.89795918  5.30612245  5.71428571  6.12244898  6.53061224  6.93877551\n",
            "  7.34693878  7.75510204  8.16326531  8.57142857  8.97959184  9.3877551\n",
            "  9.79591837 10.20408163 10.6122449  11.02040816 11.42857143 11.83673469\n",
            " 12.24489796 12.65306122 13.06122449 13.46938776 13.87755102 14.28571429\n",
            " 14.69387755 15.10204082 15.51020408 15.91836735 16.32653061 16.73469388\n",
            " 17.14285714 17.55102041 17.95918367 18.36734694 18.7755102  19.18367347\n",
            " 19.59183673 20.        ]\n",
            "[  2.           1.59183673   1.18367347   0.7755102    0.36734694\n",
            "  -0.04081633  -0.44897959  -0.85714286  -1.26530612  -1.67346939\n",
            "  -2.08163265  -2.48979592  -2.89795918  -3.30612245  -3.71428571\n",
            "  -4.12244898  -4.53061224  -4.93877551  -5.34693878  -5.75510204\n",
            "  -6.16326531  -6.57142857  -6.97959184  -7.3877551   -7.79591837\n",
            "  -8.20408163  -8.6122449   -9.02040816  -9.42857143  -9.83673469\n",
            " -10.24489796 -10.65306122 -11.06122449 -11.46938776 -11.87755102\n",
            " -12.28571429 -12.69387755 -13.10204082 -13.51020408 -13.91836735\n",
            " -14.32653061 -14.73469388 -15.14285714 -15.55102041 -15.95918367\n",
            " -16.36734694 -16.7755102  -17.18367347 -17.59183673 -18.        ]\n"
          ]
        }
      ],
      "source": [
        "print(x)\n",
        "print(y)"
      ]
    },
    {
      "cell_type": "markdown",
      "metadata": {
        "id": "H5PZJ1I2sjTz"
      },
      "source": [
        "#### Plot your data points. "
      ]
    },
    {
      "cell_type": "code",
      "execution_count": 6,
      "metadata": {
        "colab": {
          "base_uri": "https://localhost:8080/",
          "height": 279
        },
        "id": "CNA_5tUFsjT0",
        "outputId": "d75fb4b3-ccd2-4a39-b7d8-15930ab23010",
        "scrolled": false
      },
      "outputs": [
        {
          "data": {
            "image/png": "[encoded data removed]",
            "text/plain": [
              "<Figure size 432x288 with 1 Axes>"
            ]
          },
          "metadata": {
            "needs_background": "light"
          },
          "output_type": "display_data"
        }
      ],
      "source": [
        "plt.scatter(x, y, marker='o', color='red')\n",
        "plt.xlabel(\"x\")\n",
        "plt.ylabel(\"y\")\n",
        "plt.show()"
      ]
    },
    {
      "cell_type": "markdown",
      "metadata": {
        "id": "58NwlgeMsjT0"
      },
      "source": [
        "# Adagrad"
      ]
    },
    {
      "cell_type": "markdown",
      "metadata": {
        "id": "84D8WfN_sjT0"
      },
      "source": [
        "The function have the following input parameters:\n",
        "1. Input data as a matrix (or vector based on your data).\n",
        "2. Target label as a vector.\n",
        "3. Learning rate.\n",
        "4. Epsilon.\n",
        "5. Maximum number of iterations (Epochs).\n",
        "\n",
        "The funtion return the following outputs:\n",
        "1. All predicted Theta_0 in all iterations.\n",
        "2. All predicted Theta_1 in all iterations.\n",
        "3. Corresponding loss for each Theta_0 and Theta_1 predictions.\n",
        "4. All hypothesis outputs (prdicted labels) for each Theta_0 and Theta_1 predictions.\n",
        "5. Final Optimum values of Theta_0 and Theta_1.\n"
      ]
    },
    {
      "cell_type": "code",
      "execution_count": 13,
      "metadata": {
        "id": "iQF8EhjxsjT1"
      },
      "outputs": [],
      "source": [
        "def adagrad_GD(in_data,target,learning_rate,epsilon,iter):\n",
        "    \n",
        "    in_data=in_data.reshape((-1,1))\n",
        "    thetas = np.zeros([2,1])\n",
        "    theta_zeros= []\n",
        "    theta_ones = []\n",
        "    m=len(in_data)\n",
        "    x_vec=np.ones((m,2))\n",
        "    x_vec[:,1]=x\n",
        "    target=target.reshape((-1,1))\n",
        "\n",
        "    theta_zeros.append(0)\n",
        "    theta_ones.append(0)\n",
        "    hypothsis=[]\n",
        "    itr=[]\n",
        "    MSE=[]\n",
        "    V = np.zeros([2,1])\n",
        "    #print(x_vec.shape)\n",
        "    \n",
        "    for i in range(iter): \n",
        "\n",
        "        y_predict =  x_vec @ thetas \n",
        "    \n",
        "        hypothsis.append(y_predict)\n",
        "        \n",
        "    \n",
        "        gradient= (-1/m) * ((target-y_predict).transpose() @ x_vec )\n",
        "        V = V + ( gradient.transpose() **2)\n",
        "        \n",
        "        v_sq = np.sqrt(V)\n",
        "        \n",
        "        \n",
        "        thetas= thetas - (learning_rate / (v_sq + epsilon)) * gradient.transpose()\n",
        "       \n",
        "    \n",
        "        MSE.append( np.linalg.norm(target-y_predict, ord=2) * (2/m))\n",
        "        itr.append(i)\n",
        "       \n",
        "        theta_zeros.append(thetas[0])\n",
        "        theta_ones.append(thetas[1])\n",
        "        \n",
        "        if i>0:\n",
        "            if (abs(MSE[i]-MSE[i-1])<0.001):\n",
        "                break\n",
        "            if(abs(np.linalg.norm([theta_zeros[i],theta_ones[i]]) -  np.linalg.norm([theta_zeros[i-1],theta_ones[i-1]]) ) <0.001):\n",
        "                break\n",
        "    MSE.append( np.linalg.norm(target-y_predict, ord=2) * (2/m))\n",
        "    itr.append(i)\n",
        "    return theta_zeros,theta_ones,MSE,hypothsis,thetas,x_vec,itr"
      ]
    },
    {
      "cell_type": "code",
      "execution_count": 14,
      "metadata": {
        "colab": {
          "base_uri": "https://localhost:8080/"
        },
        "id": "2GgVfFEUsjT1",
        "outputId": "0129101a-e25d-4858-9bdd-7a601af7032f"
      },
      "outputs": [
        {
          "name": "stdout",
          "output_type": "stream",
          "text": [
            "[[-0.62542523]\n",
            " [-0.72187634]]\n"
          ]
        }
      ],
      "source": [
        "theta_zeros,theta_ones,MSE,hypothsis,thetas,x_vec,itr = adagrad_GD(x,y,0.05,0.6,1000)\n",
        "print(thetas)"
      ]
    },
    {
      "cell_type": "code",
      "execution_count": 15,
      "metadata": {
        "id": "lA8PtDT_sjT2"
      },
      "outputs": [],
      "source": [
        "y_predicted= x_vec @ thetas"
      ]
    },
    {
      "cell_type": "code",
      "execution_count": 16,
      "metadata": {
        "colab": {
          "base_uri": "https://localhost:8080/"
        },
        "id": "Fym6uhC2sjT2",
        "outputId": "6bf418e3-8d36-4708-bce9-a09cfaa975ff"
      },
      "outputs": [
        {
          "data": {
            "text/plain": [
              "0.9219474769209396"
            ]
          },
          "execution_count": 16,
          "metadata": {},
          "output_type": "execute_result"
        }
      ],
      "source": [
        "r2_score(y, y_predicted)"
      ]
    },
    {
      "cell_type": "code",
      "execution_count": 19,
      "metadata": {
        "colab": {
          "base_uri": "https://localhost:8080/",
          "height": 295
        },
        "id": "ltxkJnUnsjT2",
        "outputId": "4037c0c3-6cde-47cd-9d3f-97bf72541624"
      },
      "outputs": [
        {
          "data": {
            "image/png": "[encoded data removed]",
            "text/plain": [
              "<Figure size 432x288 with 1 Axes>"
            ]
          },
          "metadata": {
            "needs_background": "light"
          },
          "output_type": "display_data"
        }
      ],
      "source": [
        "plt.scatter(x, y, marker='o', color='red')\n",
        "plt.plot(x,y_predicted, color='black',markerfacecolor='red',linestyle='-')\n",
        "plt.xlabel(\"x\")\n",
        "plt.ylabel(\"y\")\n",
        "plt.title(\"Regression line with data\")\n",
        "plt.show()"
      ]
    },
    {
      "cell_type": "code",
      "execution_count": 20,
      "metadata": {
        "colab": {
          "base_uri": "https://localhost:8080/",
          "height": 295
        },
        "id": "FPqe47nRsjT2",
        "outputId": "c184c898-265b-4a17-fb83-0accf8748c22"
      },
      "outputs": [
        {
          "data": {
            "image/png": "[encoded data removed]",
            "text/plain": [
              "<Figure size 432x288 with 1 Axes>"
            ]
          },
          "metadata": {
            "needs_background": "light"
          },
          "output_type": "display_data"
        }
      ],
      "source": [
        "plt.plot(MSE,itr, color='black',markerfacecolor='red',linestyle='-')\n",
        "plt.xlabel(\"MSE\")\n",
        "plt.ylabel(\"itr\")\n",
        "plt.title(\"Iterations vs MSE\")\n",
        "plt.show()"
      ]
    },
    {
      "cell_type": "code",
      "execution_count": 21,
      "metadata": {
        "colab": {
          "base_uri": "https://localhost:8080/",
          "height": 295
        },
        "id": "iOg4pf_msjT3",
        "outputId": "38c7e6f8-f00d-4c76-cd25-86bd95f9791e"
      },
      "outputs": [
        {
          "data": {
            "image/png": "[encoded data removed]",
            "text/plain": [
              "<Figure size 432x288 with 1 Axes>"
            ]
          },
          "metadata": {
            "needs_background": "light"
          },
          "output_type": "display_data"
        }
      ],
      "source": [
        "plt.scatter(x, y, marker='o', color='red')\n",
        "for h in hypothsis:\n",
        "    plt.plot(x,h, color='black',markerfacecolor='red',linestyle='-')\n",
        "    plt.xlabel(\"x\")\n",
        "    plt.ylabel(\"y\")\n",
        "    plt.title(\"all regression lines\")\n",
        "plt.show()"
      ]
    },
    {
      "cell_type": "markdown",
      "metadata": {
        "id": "nawwljMTsjT3"
      },
      "source": [
        "# RMSProp"
      ]
    },
    {
      "cell_type": "code",
      "execution_count": 22,
      "metadata": {
        "id": "6TYzjpAvsjT3"
      },
      "outputs": [],
      "source": [
        "def RMSProp_GD(in_data,target,learning_rate,epsilon,beta,iter):\n",
        "    \n",
        "    in_data=in_data.reshape((-1,1))\n",
        "    thetas = np.zeros([2,1])\n",
        "    theta_zeros= []\n",
        "    theta_ones = []\n",
        "    m=len(in_data)\n",
        "    x_vec=np.ones((m,2))\n",
        "    x_vec[:,1]=x\n",
        "    target=target.reshape((-1,1))\n",
        "\n",
        "    theta_zeros.append(0)\n",
        "    theta_ones.append(0)\n",
        "    hypothsis=[]\n",
        "    itr=[]\n",
        "    MSE=[]\n",
        "    V = np.zeros([2,1])\n",
        "    #print(x_vec.shape)\n",
        "    \n",
        "    for i in range(iter): \n",
        "\n",
        "        y_predict =  x_vec @ thetas \n",
        "    \n",
        "        hypothsis.append(y_predict)\n",
        "        \n",
        "    \n",
        "        gradient= (-1/m) * ((target-y_predict).transpose() @ x_vec )\n",
        "        V = (V *beta )+  (1-beta) * ( gradient.transpose() **2)\n",
        "        \n",
        "        v_sq = np.sqrt(V)\n",
        "        \n",
        "        \n",
        "        thetas= thetas - (learning_rate / (v_sq + epsilon)) * gradient.transpose()\n",
        "       \n",
        "    \n",
        "        MSE.append( np.linalg.norm(target-y_predict, ord=2) * (2/m))\n",
        "        itr.append(i)\n",
        "       \n",
        "        theta_zeros.append(thetas[0])\n",
        "        theta_ones.append(thetas[1])\n",
        "        \n",
        "        if i>0:\n",
        "            if (abs(MSE[i]-MSE[i-1])<0.001):\n",
        "                break\n",
        "            if(abs(np.linalg.norm([theta_zeros[i],theta_ones[i]]) -  np.linalg.norm([theta_zeros[i-1],theta_ones[i-1]]) ) <0.001):\n",
        "                break\n",
        "    MSE.append( np.linalg.norm(target-y_predict, ord=2) * (2/m))\n",
        "    itr.append(i)\n",
        "    return theta_zeros,theta_ones,MSE,hypothsis,thetas,x_vec,itr"
      ]
    },
    {
      "cell_type": "code",
      "execution_count": 23,
      "metadata": {
        "colab": {
          "base_uri": "https://localhost:8080/"
        },
        "id": "cWqtmrA4sjT4",
        "outputId": "ade34a5d-b9ee-4a65-9692-a1bedb2e0ec8"
      },
      "outputs": [
        {
          "name": "stdout",
          "output_type": "stream",
          "text": [
            "[[-0.61879917]\n",
            " [-0.78470258]]\n"
          ]
        }
      ],
      "source": [
        "theta_zeros,theta_ones,MSE,hypothsis,thetas,x_vec,itr = RMSProp_GD(x,y,0.05,0.005,0.9,1000)\n",
        "print(thetas)"
      ]
    },
    {
      "cell_type": "code",
      "execution_count": 24,
      "metadata": {
        "id": "Q__iFkGDsjT4"
      },
      "outputs": [],
      "source": [
        "y_predicted= x_vec @ thetas"
      ]
    },
    {
      "cell_type": "code",
      "execution_count": 25,
      "metadata": {
        "colab": {
          "base_uri": "https://localhost:8080/"
        },
        "id": "Ot4h-O5psjT4",
        "outputId": "0945bb2a-7d6f-401b-995f-02f1b6efc191"
      },
      "outputs": [
        {
          "data": {
            "text/plain": [
              "0.9473925192636036"
            ]
          },
          "execution_count": 25,
          "metadata": {},
          "output_type": "execute_result"
        }
      ],
      "source": [
        "r2_score(y, y_predicted)"
      ]
    },
    {
      "cell_type": "code",
      "execution_count": 26,
      "metadata": {
        "colab": {
          "base_uri": "https://localhost:8080/",
          "height": 295
        },
        "id": "CuT0mZMYsjT4",
        "outputId": "8f13abe0-fe3e-4fc7-9abd-ca1c5f240148"
      },
      "outputs": [
        {
          "data": {
            "image/png": "[encoded data removed]",
            "text/plain": [
              "<Figure size 432x288 with 1 Axes>"
            ]
          },
          "metadata": {
            "needs_background": "light"
          },
          "output_type": "display_data"
        }
      ],
      "source": [
        "plt.scatter(x, y, marker='o', color='red')\n",
        "plt.plot(x,y_predicted, color='black',markerfacecolor='red',linestyle='-')\n",
        "plt.xlabel(\"x\")\n",
        "plt.ylabel(\"y\")\n",
        "plt.title(\"Regression line with data\")\n",
        "plt.show()"
      ]
    },
    {
      "cell_type": "code",
      "execution_count": 27,
      "metadata": {
        "colab": {
          "base_uri": "https://localhost:8080/",
          "height": 295
        },
        "id": "lvCkKfxnsjT5",
        "outputId": "c8cbff83-bcf5-4c90-8961-4b00921cfdee"
      },
      "outputs": [
        {
          "data": {
            "image/png": "[encoded data removed]",
            "text/plain": [
              "<Figure size 432x288 with 1 Axes>"
            ]
          },
          "metadata": {
            "needs_background": "light"
          },
          "output_type": "display_data"
        }
      ],
      "source": [
        "plt.plot(MSE,itr, color='black',markerfacecolor='red',linestyle='-')\n",
        "plt.xlabel(\"MSE\")\n",
        "plt.ylabel(\"itr\")\n",
        "plt.title(\"Iterations vs MSE\")\n",
        "plt.show()"
      ]
    },
    {
      "cell_type": "markdown",
      "metadata": {
        "id": "bUtIFNNfsjT5"
      },
      "source": [
        "## Adam"
      ]
    },
    {
      "cell_type": "code",
      "execution_count": 28,
      "metadata": {
        "id": "85pLUhYosjT5"
      },
      "outputs": [],
      "source": [
        "def Adam_GD(in_data,target,learning_rate,epsilon,beta_one,beta_two,iter):\n",
        "    \n",
        "    in_data=in_data.reshape((-1,1))\n",
        "    thetas = np.zeros([2,1])\n",
        "    theta_zeros= []\n",
        "    theta_ones = []\n",
        "    m=len(in_data)\n",
        "    x_vec=np.ones((m,2))\n",
        "    x_vec[:,1]=x\n",
        "    target=target.reshape((-1,1))\n",
        "\n",
        "    theta_zeros.append(0)\n",
        "    theta_ones.append(0)\n",
        "    hypothsis=[]\n",
        "    itr=[]\n",
        "    MSE=[]\n",
        "    M = np.zeros([2,1])\n",
        "    V = np.zeros([2,1])\n",
        "    #print(x_vec.shape)\n",
        "    \n",
        "    for i in range(iter): \n",
        "\n",
        "        y_predict =  x_vec @ thetas \n",
        "    \n",
        "        hypothsis.append(y_predict)\n",
        "        \n",
        "    \n",
        "        gradient= (-1/m) * ((target-y_predict).transpose() @ x_vec )\n",
        "        \n",
        "        M = (M *beta_one ) +  (1-beta_one) * gradient.transpose() \n",
        "        V = (V *beta_two ) +  (1-beta_two) * ( gradient.transpose() **2)\n",
        "        \n",
        "        v_sq = np.sqrt(V)\n",
        "        \n",
        "        \n",
        "        thetas= thetas - (learning_rate / ( v_sq + epsilon)) * M\n",
        "       \n",
        "    \n",
        "        MSE.append( np.linalg.norm(target-y_predict, ord=2) * (2/m))\n",
        "        itr.append(i)\n",
        "       \n",
        "        theta_zeros.append(thetas[0])\n",
        "        theta_ones.append(thetas[1])\n",
        "        \n",
        "        if i>0:\n",
        "            if (abs(MSE[i]-MSE[i-1])<0.001):\n",
        "                break\n",
        "            if(abs(np.linalg.norm([theta_zeros[i],theta_ones[i]]) -  np.linalg.norm([theta_zeros[i-1],theta_ones[i-1]]) ) <0.001):\n",
        "                break\n",
        "    MSE.append( np.linalg.norm(target-y_predict, ord=2) * (2/m))\n",
        "    itr.append(i)\n",
        "    return theta_zeros,theta_ones,MSE,hypothsis,thetas,x_vec,itr"
      ]
    },
    {
      "cell_type": "code",
      "execution_count": 29,
      "metadata": {
        "colab": {
          "base_uri": "https://localhost:8080/"
        },
        "id": "MkjLsVe8sjT6",
        "outputId": "c7b6af6a-b361-483e-f50e-03b5e71aecef"
      },
      "outputs": [
        {
          "name": "stdout",
          "output_type": "stream",
          "text": [
            "[[-0.77915711]\n",
            " [-0.85026709]]\n"
          ]
        }
      ],
      "source": [
        "theta_zeros,theta_ones,MSE,hypothsis,thetas,x_vec,itr = Adam_GD(x,y,0.05,0.005,0.6,0.5,500)\n",
        "print(thetas)"
      ]
    },
    {
      "cell_type": "code",
      "execution_count": 30,
      "metadata": {
        "id": "9_0eOGuwsjT6"
      },
      "outputs": [],
      "source": [
        "y_predicted= x_vec @ thetas"
      ]
    },
    {
      "cell_type": "code",
      "execution_count": 31,
      "metadata": {
        "colab": {
          "base_uri": "https://localhost:8080/"
        },
        "id": "VtyHn_QXsjT6",
        "outputId": "1edaf1e9-b87b-406e-bebf-c1342e8e0b48"
      },
      "outputs": [
        {
          "data": {
            "text/plain": [
              "0.9302206018715292"
            ]
          },
          "execution_count": 31,
          "metadata": {},
          "output_type": "execute_result"
        }
      ],
      "source": [
        "r2_score(y, y_predicted)"
      ]
    },
    {
      "cell_type": "code",
      "execution_count": 34,
      "metadata": {
        "colab": {
          "base_uri": "https://localhost:8080/",
          "height": 295
        },
        "id": "bVVO-06JsjT6",
        "outputId": "c3dd8e21-6aa4-4788-aa39-6ebc41bd2a1a"
      },
      "outputs": [
        {
          "data": {
            "image/png": "[encoded data removed]",
            "text/plain": [
              "<Figure size 432x288 with 1 Axes>"
            ]
          },
          "metadata": {
            "needs_background": "light"
          },
          "output_type": "display_data"
        }
      ],
      "source": [
        "plt.scatter(x, y, marker='o', color='red')\n",
        "plt.plot(x,y_predicted, color='black',markerfacecolor='red',linestyle='-')\n",
        "plt.xlabel(\"x\")\n",
        "plt.ylabel(\"y\")\n",
        "plt.title(\"Regression line with data\")\n",
        "plt.show()"
      ]
    },
    {
      "cell_type": "code",
      "execution_count": 35,
      "metadata": {
        "colab": {
          "base_uri": "https://localhost:8080/",
          "height": 295
        },
        "id": "QdFAdKQssjT6",
        "outputId": "5f02ff91-4530-46f3-b0b7-79ccb5615c44"
      },
      "outputs": [
        {
          "data": {
            "image/png": "[encoded data removed]",
            "text/plain": [
              "<Figure size 432x288 with 1 Axes>"
            ]
          },
          "metadata": {
            "needs_background": "light"
          },
          "output_type": "display_data"
        }
      ],
      "source": [
        "plt.plot(itr,MSE, color='black',markerfacecolor='red',linestyle='-')\n",
        "plt.xlabel(\"itr\")\n",
        "plt.ylabel(\"MSE\")\n",
        "plt.title(\"Iterations vs MSE\")\n",
        "plt.show()"
      ]
    }
  ],
  "metadata": {
    "colab": {
      "collapsed_sections": [],
      "name": "acceleratedGD_with-adaptiveLearning Rate-methods .ipynb",
      "provenance": []
    },
    "kernelspec": {
      "display_name": "Python 3",
      "language": "python",
      "name": "python3"
    },
    "language_info": {
      "codemirror_mode": {
        "name": "ipython",
        "version": 3
      },
      "file_extension": ".py",
      "mimetype": "text/x-python",
      "name": "python",
      "nbconvert_exporter": "python",
      "pygments_lexer": "ipython3",
      "version": "3.8.5"
    }
  },
  "nbformat": 4,
  "nbformat_minor": 0
}
